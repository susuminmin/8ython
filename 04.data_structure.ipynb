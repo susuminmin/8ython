{
 "cells": [
  {
   "cell_type": "markdown",
   "metadata": {},
   "source": [
    "# 문자열 메소드 활용하기"
   ]
  },
  {
   "cell_type": "markdown",
   "metadata": {},
   "source": [
    "## 변형\n",
    "\n",
    "### `.capitalize()`, `title()`, `.upper()`\n",
    "\n",
    "`.capitalize()` : 앞글자를 대문자로 만들어 반환합니다.\n",
    "\n",
    "`.title()` : 어포스트로피나 공백 이후를 대문자로 만들어 반환합니다.\n",
    "\n",
    "`.upper()` : 모두 대문자로 만들어 반환합니다."
   ]
  },
  {
   "cell_type": "code",
   "execution_count": null,
   "metadata": {},
   "outputs": [],
   "source": [
    "a = \"hI! Everyone, I'm kim\"\n",
    "# 아래에 코드를 작성하세요.\n",
    "# a.capitalize()\n",
    "# a.title()\n",
    "a.upper()"
   ]
  },
  {
   "cell_type": "markdown",
   "metadata": {},
   "source": [
    "### `.lower()`, `.swapcase()`\n",
    "\n",
    "`.lower()` : 모두 소문자로 만들어 반환합니다.\n",
    "\n",
    "`.swapcase()` : 대 ↔ 소문자로 변경(swap)하여 반환합니다."
   ]
  },
  {
   "cell_type": "code",
   "execution_count": null,
   "metadata": {},
   "outputs": [],
   "source": [
    "a = \"hI! Everyone, I'm kim\" \n",
    "# 아래에 코드를 작성하세요.\n",
    "a.lower()\n",
    "a.swapcase()"
   ]
  },
  {
   "cell_type": "markdown",
   "metadata": {},
   "source": [
    "### `.join(iterable)`\n",
    "\n",
    "Iterable 을 해당 문자열을 separator 로 합쳐서 문자열로 반환합니다."
   ]
  },
  {
   "cell_type": "code",
   "execution_count": null,
   "metadata": {},
   "outputs": [],
   "source": [
    "# 아래에 코드를 작성하세요.\n",
    "'!'.join('배고파') # 아이템 사이사이에 조인시켜서 string에서 최종 반환 "
   ]
  },
  {
   "cell_type": "code",
   "execution_count": null,
   "metadata": {},
   "outputs": [],
   "source": [
    "words = ['Hello', 'Ssafy']\n",
    "'♥'.join(words) # 공백을 seperator로 저 단어들을 하벼봐 "
   ]
  },
  {
   "cell_type": "markdown",
   "metadata": {},
   "source": [
    "### `.replace(old, new[, count])`\n",
    "\n",
    "바꿀 대상 글자를 새로운 글자로 바꿔서 반환합니다. \n",
    "\n",
    "count를 지정하면 해당 갯수만큼만 시행합니다."
   ]
  },
  {
   "cell_type": "code",
   "execution_count": null,
   "metadata": {},
   "outputs": [],
   "source": [
    "# 아래에 코드를 작성하세요.\n",
    "'yay!'.replace('a', '_')"
   ]
  },
  {
   "cell_type": "code",
   "execution_count": null,
   "metadata": {},
   "outputs": [],
   "source": [
    "'wooooowooo'.replace('o','',2)"
   ]
  },
  {
   "cell_type": "markdown",
   "metadata": {},
   "source": [
    "### 글씨 제거 (`strip([chars])`)\n",
    "\n",
    "특정한 문자들을 지정하면,  양쪽을 제거하거나 왼쪽을 제거하거나(`lstrip`) 오른쪽을 제거합니다(`rstrip`)\n",
    "\n",
    "지정하지 않으면 공백을 제거합니다. 공백이나 개행문자 다 자름"
   ]
  },
  {
   "cell_type": "code",
   "execution_count": null,
   "metadata": {},
   "outputs": [],
   "source": [
    "# 아래에 코드를 작성하세요.\n",
    "'       oh!\\n'.strip()"
   ]
  },
  {
   "cell_type": "code",
   "execution_count": null,
   "metadata": {},
   "outputs": [],
   "source": [
    "# 왼쪽 지우거나 오른쪽 지우거나\n",
    "'      oh!\\n     '.lstrip()"
   ]
  },
  {
   "cell_type": "code",
   "execution_count": null,
   "metadata": {},
   "outputs": [],
   "source": [
    "'hohohohihihi'.rstrip('hi')"
   ]
  },
  {
   "cell_type": "markdown",
   "metadata": {},
   "source": [
    "## 탐색 및 검증\n",
    "\n",
    "### `.find(x)` : x의 첫 번째 위치를 반환합니다. 없으면, -1을 반환합니다."
   ]
  },
  {
   "cell_type": "code",
   "execution_count": null,
   "metadata": {},
   "outputs": [],
   "source": [
    "# 아래에 코드를 작성하세요.\n",
    "'apple'.find('l')"
   ]
  },
  {
   "cell_type": "code",
   "execution_count": null,
   "metadata": {},
   "outputs": [],
   "source": [
    "# 없어서 -1 반환한다. \n",
    "'apple'.find('f')"
   ]
  },
  {
   "cell_type": "markdown",
   "metadata": {},
   "source": [
    "### `.index(x)` : x의 첫번째 위치를 반환합니다. 없으면, 오류가 발생합니다."
   ]
  },
  {
   "cell_type": "code",
   "execution_count": null,
   "metadata": {},
   "outputs": [],
   "source": [
    "# 아래에 코드를 작성하세요.\n",
    "'apple'.index('l')"
   ]
  },
  {
   "cell_type": "code",
   "execution_count": null,
   "metadata": {
    "scrolled": true
   },
   "outputs": [],
   "source": [
    "'apple'.index('k') # ValueError: substring not found"
   ]
  },
  {
   "cell_type": "markdown",
   "metadata": {},
   "source": [
    "## `split()`\n",
    "\n",
    "문자열을 특정한 단위로 나누어 리스트로 반환합니다."
   ]
  },
  {
   "cell_type": "code",
   "execution_count": null,
   "metadata": {},
   "outputs": [],
   "source": [
    "# 아래에 코드를 작성하세요.\n",
    "'a_b_c'.split('_')\n",
    "\n",
    "# _ 언더바를 기준으로 쪼갠다."
   ]
  },
  {
   "cell_type": "code",
   "execution_count": null,
   "metadata": {},
   "outputs": [],
   "source": [
    "words = input().split()\n",
    "print(words)\n",
    "# split에 아무 것도 안 넣고 쪼개면? 어떤 결과가 나올까?\n",
    "# hello hi를 치면 쪼개져서 리스트 형식으로 받게 된다!! 한번해보기 "
   ]
  },
  {
   "cell_type": "code",
   "execution_count": null,
   "metadata": {},
   "outputs": [],
   "source": [
    "# tuple로도 받아올 수 있음\n",
    "\n",
    "words = tuple(input().split())\n",
    "print(words)"
   ]
  },
  {
   "cell_type": "markdown",
   "metadata": {},
   "source": [
    "## 다양한 확인 메소드 : True/False 반환\n",
    "```\n",
    ".isalpha(), .isdecimal(), .isdigit(), .isnumeric(), .isspace(), .isupper(), .istitle(), .islower()\n",
    "```\n",
    "\n",
    "```python\n",
    "dir('string')\n",
    "```"
   ]
  },
  {
   "cell_type": "code",
   "execution_count": null,
   "metadata": {
    "scrolled": true
   },
   "outputs": [],
   "source": [
    "'abc'.isalpha()"
   ]
  },
  {
   "cell_type": "code",
   "execution_count": null,
   "metadata": {},
   "outputs": [],
   "source": [
    "'123'.isdecimal()"
   ]
  },
  {
   "cell_type": "code",
   "execution_count": null,
   "metadata": {},
   "outputs": [],
   "source": [
    "'ABC'.isupper()"
   ]
  },
  {
   "cell_type": "code",
   "execution_count": null,
   "metadata": {},
   "outputs": [],
   "source": [
    "# 스트링 값에서 사용할 수 있는 메소드들을 확인해준다. \n",
    "dir('string')"
   ]
  },
  {
   "cell_type": "markdown",
   "metadata": {},
   "source": [
    "# 리스트 메소드 활용하기\n",
    "\n",
    "## 값 추가 및 삭제\n",
    "\n",
    "### `.append(x)`\n",
    "\n",
    "리스트에 값을 추가할 수 있습니다."
   ]
  },
  {
   "cell_type": "code",
   "execution_count": null,
   "metadata": {},
   "outputs": [],
   "source": [
    "# 카페 리스트를 만들어봅시다.\n",
    "cafes = ['starbucks', 'tomntoms', 'hollys']\n",
    "print(cafes)"
   ]
  },
  {
   "cell_type": "code",
   "execution_count": null,
   "metadata": {},
   "outputs": [],
   "source": [
    "# 값을 추가해봅시다.\n",
    "cafes.append('caffebene')\n",
    "print(cafes)"
   ]
  },
  {
   "cell_type": "code",
   "execution_count": null,
   "metadata": {},
   "outputs": [],
   "source": [
    "# 어렵게 넣어보도록 해봅시다.\n",
    "cafes[len(cafes):] = ['ediya']\n",
    "print(cafes)"
   ]
  },
  {
   "cell_type": "markdown",
   "metadata": {},
   "source": [
    "### `.extend(iterable)`\n",
    "\n",
    "리스트에 iterable(list, range, tuple, string*유의*) 값을 붙일 수가 있습니다.\n",
    "즉, iterable 형식으로 추가를 해야 한다. "
   ]
  },
  {
   "cell_type": "code",
   "execution_count": null,
   "metadata": {},
   "outputs": [],
   "source": [
    "# 앞서 만든 리스트에 추가해봅시다.\n",
    "cafes.extend(['빽다방', 'banapresso'])\n",
    "print(cafes)"
   ]
  },
  {
   "cell_type": "code",
   "execution_count": null,
   "metadata": {},
   "outputs": [],
   "source": [
    "# 앞서 배운 list concatenate와 동일합니다.\n",
    "\n",
    "cafes += ['위메프카페', 'coffeebean']\n",
    "print(cafes)"
   ]
  },
  {
   "cell_type": "code",
   "execution_count": null,
   "metadata": {},
   "outputs": [],
   "source": [
    "# append와 비교해봅시다.\n",
    "\n",
    "# extend 할 때 list로 감싸지 않으면 / 한 글자 씩 아이템으로 추가함 (iterable이라서)\n",
    "cafes.append(['coffeegurunaru'])\n",
    "print(cafes)\n",
    "cafes.extend(['투썸플레이스'])\n",
    "print(cafes)"
   ]
  },
  {
   "cell_type": "markdown",
   "metadata": {},
   "source": [
    "### `insert(i, x)`\n",
    "\n",
    "정해진 위치 `i`에 값을 추가합니다. "
   ]
  },
  {
   "cell_type": "code",
   "execution_count": null,
   "metadata": {},
   "outputs": [],
   "source": [
    "# 앞서 만든 리스트의 가장 앞에 'hi'를 넣어봅시다.\n",
    "cafes.insert(0, 'hi')\n",
    "print(cafes)"
   ]
  },
  {
   "cell_type": "code",
   "execution_count": null,
   "metadata": {
    "scrolled": true
   },
   "outputs": [],
   "source": [
    "# 앞서 만든 리스트의 가장 뒤에 'bye'를 넣어봅시다\n",
    "cafes.insert(-1, 'bye')\n",
    "print(cafes)"
   ]
  },
  {
   "cell_type": "code",
   "execution_count": null,
   "metadata": {},
   "outputs": [],
   "source": [
    "cafes.insert(len(cafes), 'bye')\n",
    "print(cafes)"
   ]
  },
  {
   "cell_type": "code",
   "execution_count": null,
   "metadata": {},
   "outputs": [],
   "source": [
    "# 길이를 넘어서는 인덱스는 무조건 마지막에 하나만 붙습니다.\n",
    "cafes.insert(len(cafes) + 100, '!')\n",
    "print(cafes)"
   ]
  },
  {
   "cell_type": "markdown",
   "metadata": {},
   "source": [
    "### `.remove(x)`\n",
    "\n",
    "리스트에서 값이 x인 것을 삭제합니다. "
   ]
  },
  {
   "cell_type": "code",
   "execution_count": null,
   "metadata": {},
   "outputs": [],
   "source": [
    "# remove를 사용해봅시다.\n",
    "numbers = [1, 2, 3, 1, 2]\n",
    "print(numbers)"
   ]
  },
  {
   "cell_type": "code",
   "execution_count": null,
   "metadata": {},
   "outputs": [],
   "source": [
    "numbers.remove(1)\n",
    "print(numbers)"
   ]
  },
  {
   "cell_type": "code",
   "execution_count": null,
   "metadata": {},
   "outputs": [],
   "source": [
    "# 한번 더 삭제해봅시다."
   ]
  },
  {
   "cell_type": "code",
   "execution_count": null,
   "metadata": {},
   "outputs": [],
   "source": [
    "# remove는 값이 없으면 오류가 발생합니다. 확인해봅시다.\n",
    "numbers.remove(1)\n",
    "print(numbers)"
   ]
  },
  {
   "cell_type": "code",
   "execution_count": null,
   "metadata": {},
   "outputs": [],
   "source": [
    "numbers.remove(1)\n",
    "print(numbers)"
   ]
  },
  {
   "cell_type": "markdown",
   "metadata": {},
   "source": [
    "### `.pop(i)`\n",
    "\n",
    "정해진 위치 `i`에 있는 값을 삭제하며, 그 항목을 반환합니다.\n",
    "\n",
    "`i`가 지정되지 않으면 마지막 항목을 삭제하고 되돌려줍니다.(=pop한다.)"
   ]
  },
  {
   "cell_type": "code",
   "execution_count": null,
   "metadata": {},
   "outputs": [],
   "source": [
    "# pop을 사용해봅시다.\n",
    "numbers = [1, 2, 3, 4, 5, 6]"
   ]
  },
  {
   "cell_type": "code",
   "execution_count": null,
   "metadata": {},
   "outputs": [],
   "source": [
    "# 가장 앞에 있는 것을 삭제해봅시다. return도 확인해보세요.\n",
    "result = numbers.pop(0)\n",
    "print(result)\n",
    "print(numbers)"
   ]
  },
  {
   "cell_type": "code",
   "execution_count": null,
   "metadata": {},
   "outputs": [],
   "source": [
    "# 값이 return이 된다는 것은 별도의 변수에 저장할 수 있다는 것입니다. \n",
    "print(numbers)\n",
    "deleted_value = numbers.pop()\n",
    "print(f'{deleted_value}가 삭제되어 {numbers}가 되었습니다.')"
   ]
  },
  {
   "cell_type": "markdown",
   "metadata": {},
   "source": [
    "## 탐색 및 정렬"
   ]
  },
  {
   "cell_type": "markdown",
   "metadata": {},
   "source": [
    "### `.index(x)`\n",
    "\n",
    "x 값을 찾아 해당 index 값을 반환합니다."
   ]
  },
  {
   "cell_type": "code",
   "execution_count": null,
   "metadata": {},
   "outputs": [],
   "source": [
    "# index를 사용해봅시다.\n",
    "numbers = [1, 2, 3, 4, 5]\n",
    "# 3의 자리는?\n",
    "numbers.index(3)"
   ]
  },
  {
   "cell_type": "code",
   "execution_count": null,
   "metadata": {},
   "outputs": [],
   "source": [
    "# index는 없을 시 오류가 발생합니다. 확인해봅시다. \n",
    "# 앞서 remove 역시도 같은 에러가 발생하였습니다. (ValueError)\n",
    "\n",
    "numbers.index(100) # ValueError: 100 is not in list"
   ]
  },
  {
   "cell_type": "markdown",
   "metadata": {},
   "source": [
    "### `.count(x)`\n",
    "\n",
    "원하는 값의 갯수를 확인할 수 있습니다."
   ]
  },
  {
   "cell_type": "code",
   "execution_count": null,
   "metadata": {},
   "outputs": [],
   "source": [
    "# count를 사용해봅시다.\n",
    "numbers = [1, 2, 5, 1, 5, 1]\n",
    "numbers.count(1)"
   ]
  },
  {
   "cell_type": "code",
   "execution_count": null,
   "metadata": {},
   "outputs": [],
   "source": [
    "# 따라서 원하는 값을 모두 삭제하려면 다음과 같이 할 수 있습니다.\n",
    "target = 5\n",
    "for i in range(numbers.count(target)): # target이 있는 개수만큼 for 문이 돈다. \n",
    "    numbers.remove(target)"
   ]
  },
  {
   "cell_type": "code",
   "execution_count": null,
   "metadata": {},
   "outputs": [],
   "source": [
    "# 모두 삭제되었는지 검증해봅시다.\n",
    "print(numbers)"
   ]
  },
  {
   "cell_type": "markdown",
   "metadata": {},
   "source": [
    "### `.sort()`\n",
    "\n",
    "정렬을 합니다. \n",
    "\n",
    "`sorted()`와는 다르게 원본 list를 변형시키고, None을 리턴합니다."
   ]
  },
  {
   "cell_type": "code",
   "execution_count": null,
   "metadata": {},
   "outputs": [],
   "source": [
    "import random\n",
    "lotto = random.sample(range(1, 46), 6)\n",
    "print(lotto)"
   ]
  },
  {
   "cell_type": "code",
   "execution_count": null,
   "metadata": {},
   "outputs": [],
   "source": [
    "# sort를 사용해봅시다.\n",
    "print(sorted(lotto))\n",
    "print(lotto)\n",
    "print(\"=======\")\n",
    "print(lotto.sort(reverse=True)) # reverse=True : 거꾸로 정렬하는 옵션! \n",
    "print(lotto)\n",
    "# 정렬한 리스트를 반환한다.\n",
    "\n",
    "##### sorted vs. .sort 차이점? \n",
    "\n",
    "# sorted : 원본은 그대로인데 함수 자체가 정렬된 리스트를 반환하는 것\n",
    "# .sort 는 반환하는 값은 없는데 원본을 바꿔버림"
   ]
  },
  {
   "cell_type": "markdown",
   "metadata": {},
   "source": [
    "### `reverse()`\n",
    "\n",
    "reverse() 함수도 원본을 바꾼다. \n",
    "반대로 뒤집습니다. (정렬 아님)"
   ]
  },
  {
   "cell_type": "code",
   "execution_count": null,
   "metadata": {},
   "outputs": [],
   "source": [
    "classroom = ['Tom', 'David', 'Justin'] \n",
    "print(classroom)"
   ]
  },
  {
   "cell_type": "code",
   "execution_count": null,
   "metadata": {},
   "outputs": [],
   "source": [
    "print(list(reversed(classroom)))\n",
    "print(classroom)\n",
    "print('============')\n",
    "classroom.reverse()\n",
    "print(classroom)"
   ]
  },
  {
   "cell_type": "markdown",
   "metadata": {},
   "source": [
    "## 복사"
   ]
  },
  {
   "cell_type": "code",
   "execution_count": null,
   "metadata": {},
   "outputs": [],
   "source": [
    "# 리스트 복사를 해봅시다.\n",
    "original_list = [1, 2, 3]"
   ]
  },
  {
   "cell_type": "code",
   "execution_count": null,
   "metadata": {},
   "outputs": [],
   "source": [
    "copied_list = original_list\n",
    "print(copied_list)"
   ]
  },
  {
   "cell_type": "code",
   "execution_count": null,
   "metadata": {},
   "outputs": [],
   "source": [
    "# copied_list 의 값을 바꾸고 original_list 를 출력해봅시다.\n",
    "copied_list[0] = 5\n",
    "print(original_list)\n",
    "# copied 를 바꾸었는데, 원본까지 바뀐 게 적용이된다!! --> 주소값 때문"
   ]
  },
  {
   "cell_type": "code",
   "execution_count": null,
   "metadata": {},
   "outputs": [],
   "source": [
    "# id 값을 확안해봅시다.\n",
    "\n",
    "## 둘 다 같은 메모리에 저장된 주소값을 출력한다. \n",
    "\n",
    "print(id(original_list))\n",
    "print(id(copied_list))"
   ]
  },
  {
   "cell_type": "code",
   "execution_count": null,
   "metadata": {},
   "outputs": [],
   "source": [
    "# 숫자를 확인해봅시다.\n",
    "\n",
    "a = 1004 \n",
    "b = a # b = 1004\n",
    "b = 300\n",
    "print(a) "
   ]
  },
  {
   "cell_type": "code",
   "execution_count": null,
   "metadata": {},
   "outputs": [],
   "source": [
    "# 딕셔너리도 확인해봅시다.\n",
    "\n",
    "lunch = {'김밥카페': '라돈', '양자강': '차돌짬뽕'}\n",
    "print(lunch)\n",
    "\n",
    "dinner = lunch \n",
    "dinner['김밥카페'] = '치즈라면'\n",
    "print(lunch)\n",
    "\n",
    "# dinner를 바꿨는데 lunch도 바뀌어있음 ㄷㄷ;; \n",
    "# copied를 바꿨는데 ori도 바뀜 ;;\n",
    "# dict도 이 둘의 id값이 같아!\n",
    "# 주소값을 기준으로 copy! "
   ]
  },
  {
   "cell_type": "markdown",
   "metadata": {},
   "source": [
    "### copy\n",
    "> [pythontutor](http://pythontutor.com/visualize.html#code=lunch%20%3D%20%7B'%EA%B9%80%EB%B0%A5%EC%B2%9C%EA%B5%AD'%3A%20'%EC%B9%98%EC%A6%88%EB%9D%BC%EB%A9%B4',%20'%EA%B9%80%EA%B0%80%EB%84%A4'%3A%20'%EC%A0%9C%EC%9C%A1%EB%B3%B6%EC%9D%8C'%7D%0Aprint%28lunch%29%0Adinner%20%3D%20lunch%0Adinner%5B'%EA%B9%80%EB%B0%A5%EC%B2%9C%EA%B5%AD'%5D%20%3D%20'%EC%B0%B8%EC%B9%98%EA%B9%80%EB%B0%A5'%0Aprint%28lunch%29&cumulative=false&curInstr=0&heapPrimitives=nevernest&mode=display&origin=opt-frontend.js&py=3&rawInputLstJSON=%5B%5D&textReferences=false)를 활용하여 자세하게 알아봅시다.\n",
    "\n",
    "* 파이썬에서 모든 변수는 객체의 주소를 가지고 있을 뿐입니다. \n",
    "\n",
    "```\n",
    "num = [1, 2, 3]\n",
    "```\n",
    "\n",
    "* 위와 같이 변수를 생성하면 hong이라는 객체를 생성하고, 변수에는 객체의 주소가 저장됩니다.\n",
    "\n",
    "* ***변경가능한(mutable) 자료형과 변경불가능한(immutable) 자료형은 서로 다르게 동작합니다.***\n",
    "\n",
    "* dictionary 에도 똑같이 사용할 수 있음\n",
    "\n",
    "\n",
    "따라서, 복사를 하고 싶을 때에는 다음과 같이 해야한다."
   ]
  },
  {
   "cell_type": "code",
   "execution_count": null,
   "metadata": {},
   "outputs": [],
   "source": [
    "# 리스트를 복사해봅시다. ★★★★★\n",
    "a = [1, 2, 3]\n",
    "b = a[:] # 처음부터~끝까지 라는 새로운 리스트... b = a일 경우와의 차이점 이해하기! \n",
    "b[0] = 5\n",
    "print(a)"
   ]
  },
  {
   "cell_type": "code",
   "execution_count": null,
   "metadata": {},
   "outputs": [],
   "source": [
    "# 다른 방법으로 복사해봅시다.\n",
    "# 이것도 마찬가지 (파튜로 확인)\n",
    "a = [1, 2, 3]\n",
    "b = list(a)\n",
    "b[0] = 5\n",
    "print(a)"
   ]
  },
  {
   "cell_type": "markdown",
   "metadata": {},
   "source": [
    "* 하지만, 이렇게 하는 것도 일부 상황에만 서로 다른 얕은 복사(shallow copy)입니다."
   ]
  },
  {
   "cell_type": "code",
   "execution_count": null,
   "metadata": {},
   "outputs": [],
   "source": [
    "# 2차원 배열을 복사해봅시다.\n",
    "\n",
    "# 이 경우 slicing을 했음에도 바뀐다. \n",
    "# 큰 리스트만 새롭게 생김... 안쪽 리스트는 걍 붙인거라서... id만 복사됨 \n",
    "\n",
    "# b 속에 있는 걔랑 a 속에 있는 걔를 같은 애로 / 같은 주소값으로 생각함. \n",
    "\n",
    "a = [1, 2, [1, 2]]\n",
    "b = a[:]\n",
    "b[0] = 7\n",
    "b[2][0] = 5\n",
    "print(a)"
   ]
  },
  {
   "cell_type": "markdown",
   "metadata": {},
   "source": [
    "* 만일 중첩된 상황에서 복사를 하고 싶다면, 깊은 복사(deep copy)를 해야합니다. \n",
    "\n",
    "* 즉, 내부에 있는 모든 객체까지 새롭게 값이 변경됩니다."
   ]
  },
  {
   "cell_type": "code",
   "execution_count": null,
   "metadata": {},
   "outputs": [],
   "source": [
    "# 깊은 복사를 사용해봅시다.\n",
    "import copy\n",
    "a = [1, 2, [1, 2]]\n",
    "b = copy.deepcopy(a)\n",
    "b[2][0] = 5\n",
    "print(a) # deep copy가 되어서 a는 바뀌지 않는다."
   ]
  },
  {
   "cell_type": "markdown",
   "metadata": {},
   "source": [
    "## `.clear()`\n",
    "\n",
    "리스트의 모든 항목을 삭제합니다."
   ]
  },
  {
   "cell_type": "code",
   "execution_count": null,
   "metadata": {},
   "outputs": [],
   "source": [
    "# clear를 사용해봅시다.\n",
    "numbers = list(range(1, 46))\n",
    "print(numbers)\n",
    "numbers.clear()\n",
    "print(numbers)"
   ]
  },
  {
   "cell_type": "markdown",
   "metadata": {},
   "source": [
    "# List Comprehension\n",
    "\n",
    "List를 만들 수 있는 간단한 방법이 있습니다."
   ]
  },
  {
   "cell_type": "markdown",
   "metadata": {},
   "source": [
    "### 세제곱리스트\n",
    "\n",
    "> 다음의 리스트를 만들어보세요. \n",
    "\n",
    "- 1~10까지의 숫자로 만든 세제곱 담긴 리스트 `cubic_list`"
   ]
  },
  {
   "cell_type": "code",
   "execution_count": null,
   "metadata": {},
   "outputs": [],
   "source": [
    "numbers = range(1, 11) # 1 ~ 10"
   ]
  },
  {
   "cell_type": "code",
   "execution_count": null,
   "metadata": {},
   "outputs": [],
   "source": [
    "# 기존의방법\n",
    "\n",
    "cubic_list = []\n",
    "for number in numbers:\n",
    "    cubic_list.append(number ** 3)\n",
    "    \n",
    "print(cubic_list)"
   ]
  },
  {
   "cell_type": "code",
   "execution_count": null,
   "metadata": {},
   "outputs": [],
   "source": [
    "# List Comprehension\n",
    "\n",
    "cubic_list = [number ** 3 for number in numbers] # 1~10을 각각 세제곱 각각for문 돌면서... \n",
    "print(cubic_list)"
   ]
  },
  {
   "cell_type": "markdown",
   "metadata": {},
   "source": [
    "### 짝수리스트\n",
    "> 다음의 리스트를 만들어보세요. \n",
    "\n",
    "- 1~10까지의 숫자중 짝수만 담긴 리스트 `even_list`\n",
    "- 여러개의 `for` 혹은 `if`문을 중첩적으로 사용 가능합니다."
   ]
  },
  {
   "cell_type": "code",
   "execution_count": null,
   "metadata": {},
   "outputs": [],
   "source": [
    "numbers = range(1, 11) # 1 ~ 10"
   ]
  },
  {
   "cell_type": "code",
   "execution_count": null,
   "metadata": {},
   "outputs": [],
   "source": [
    "# 기존의방법\n",
    "\n",
    "even_list = []\n",
    "for number in numbers:\n",
    "    if number % 2 == 0:\n",
    "        even_list.append(number)\n",
    "        \n",
    "print(even_list)"
   ]
  },
  {
   "cell_type": "code",
   "execution_count": null,
   "metadata": {},
   "outputs": [],
   "source": [
    "# List Comprehension\n",
    "\n",
    "even_list = [number for number in numbers if number % 2 == 0] \n",
    "print(even_list)"
   ]
  },
  {
   "cell_type": "markdown",
   "metadata": {},
   "source": [
    "### 곱집합\n",
    "\n",
    "> 주어진 두 list의 가능한 모든 조합을 담은 `pair` 리스트를 만들어주세요.\n",
    "\n",
    "1. 반복문 활용\n",
    "2. list comprehension 활용\n",
    "\n",
    "---\n",
    "\n",
    "```\n",
    "girls = ['jane', 'iu', 'mary']\n",
    "boys = ['justin', 'david', 'kim']\n",
    "\n",
    "예시 출력)\n",
    "    \n",
    "[('justin', 'jane'), ('justin', 'iu'), ('justin', 'mary'), ('david', 'jane'), ('david', 'iu'), ('david', 'mary'), ('kim', 'jane'), ('kim', 'iu'), ('kim', 'mary')]\n",
    "```\n",
    "\n"
   ]
  },
  {
   "cell_type": "code",
   "execution_count": null,
   "metadata": {},
   "outputs": [],
   "source": [
    "girls = ['jane', 'iu', 'mary']\n",
    "boys = ['justin', 'david', 'kim']"
   ]
  },
  {
   "cell_type": "code",
   "execution_count": null,
   "metadata": {},
   "outputs": [],
   "source": [
    "# 반복문을 활용하여 만들어주세요. (기존의 방법 - 이중 for문 돌기)\n",
    "\n",
    "pairs = []\n",
    "\n",
    "for girl in girls:\n",
    "    for boy in boys:\n",
    "        pairs.append((boy, girl))\n",
    "        \n",
    "print(pairs)"
   ]
  },
  {
   "cell_type": "code",
   "execution_count": null,
   "metadata": {},
   "outputs": [],
   "source": [
    "# List comprehension을 활용하여 만들어주세요.\n",
    "\n",
    "pairs = [(girl, boy) for girl in girls for boy in boys]\n",
    "print(pairs)"
   ]
  },
  {
   "cell_type": "markdown",
   "metadata": {},
   "source": [
    "### 피타고라스 정리\n",
    "\n",
    "> 주어진 조건(x < y < z < 50) 내에서 피타고라스 방정식의 해를 찾아보세요.\n",
    "\n",
    "1. 반복문 활용\n",
    "\n",
    "2. list comprehension 활용\n",
    "\n",
    "```\n",
    "예시 출력)\n",
    "[(3, 4, 5), (5, 12, 13), (6, 8, 10), (7, 24, 25), (8, 15, 17), (9, 12, 15), (9, 40, 41), (10, 24, 26), (12, 16, 20), (12, 35, 37), (15, 20, 25), (15, 36, 39), (16, 30, 34), (18, 24, 30), (20, 21, 29), (21, 28, 35), (24, 32, 40), (27, 36, 45)]\n",
    "```"
   ]
  },
  {
   "cell_type": "code",
   "execution_count": null,
   "metadata": {},
   "outputs": [],
   "source": [
    "# 반복문을 활용하여 만들어주세요.\n",
    "result = []\n",
    "for x in range(1, 50):\n",
    "    for y in range(x, 50):\n",
    "        for z in range(y, 50):\n",
    "            if x ** 2 + y ** 2 == z ** 2:\n",
    "                result.append((x, y, z))\n",
    "\n",
    "print(result)"
   ]
  },
  {
   "cell_type": "code",
   "execution_count": null,
   "metadata": {},
   "outputs": [],
   "source": [
    "result = [(x, y, z) for x in range(1, 50) for y in range(x, 50) for z in range(y, 50) if x ** 2 + y ** 2 == z ** 2]\n",
    "print(result)"
   ]
  },
  {
   "cell_type": "markdown",
   "metadata": {},
   "source": [
    "### 모음 제거하기\n",
    "\n",
    "> 다음의 문장에서 모음(a, e, i, o, u)를 모두 제거하시오.\n",
    "\n",
    "1. list comprehension만 사용해보세요.\n",
    "\n",
    "``` \n",
    "    words = 'Life is too short, you need python!'\n",
    "\n",
    "    예시출력)\n",
    "    Lf s t shrt, y nd pythn!\n",
    "```"
   ]
  },
  {
   "cell_type": "code",
   "execution_count": null,
   "metadata": {},
   "outputs": [],
   "source": [
    "# List comprehension을 활용하여 만들어주세요.\n",
    "words = 'Life is too short, you need python!'\n",
    "vowels = 'aeiou'\n",
    "\n",
    "result = [char for char in words if char not in vowels]\n",
    "print(''.join(result))"
   ]
  },
  {
   "cell_type": "markdown",
   "metadata": {},
   "source": [
    "# 딕셔너리 메소드 활용"
   ]
  },
  {
   "cell_type": "markdown",
   "metadata": {},
   "source": [
    "## 추가 및 삭제\n",
    "\n",
    "### `.pop(key[, default])`\n",
    "\n",
    "key가 딕셔너리에 있으면 제거하고 그 값을 돌려줍니다. 그렇지 않으면 default를 반환합니다.\n",
    "\n",
    "default가 없는 상태에서 딕셔너리에 없으면 KeyError가 발생합니다."
   ]
  },
  {
   "cell_type": "code",
   "execution_count": null,
   "metadata": {},
   "outputs": [],
   "source": [
    "# pop을 사용해봅시다.\n",
    "my_dict = {'apple': '사과', 'banana': '바나나'}\n",
    "my_dict.pop('apple')\n",
    "print(my_dict)"
   ]
  },
  {
   "cell_type": "code",
   "execution_count": null,
   "metadata": {},
   "outputs": [],
   "source": [
    "# 딕셔너리에 없으면 에러가 발생합니다\n",
    "my_dict.pop('melon') # KeyError"
   ]
  },
  {
   "cell_type": "code",
   "execution_count": null,
   "metadata": {},
   "outputs": [],
   "source": [
    "# 두번째 인자로 default를 설정할 수 있습니다\n",
    "my_dict.pop('melon', '메론') # 첫 번째 값이 없으면 '메론'을 반환해라"
   ]
  },
  {
   "cell_type": "markdown",
   "metadata": {},
   "source": [
    "### `.update()`\n",
    "\n",
    "값을 제공하는 key, value로 덮어씁니다. "
   ]
  },
  {
   "cell_type": "code",
   "execution_count": null,
   "metadata": {},
   "outputs": [],
   "source": [
    "# update를 사용해봅시다.\n",
    "my_dict = {'apple': '사과', 'banana': '바나나', 'melon': '멜론'}\n"
   ]
  },
  {
   "cell_type": "code",
   "execution_count": null,
   "metadata": {},
   "outputs": [],
   "source": [
    "# key 값 str 으로 설정하는 것과 좀 다른 개념...\n",
    "\n",
    "my_dict.update(apple='사과아아아아아아아') \n",
    "print(my_dict)"
   ]
  },
  {
   "cell_type": "code",
   "execution_count": null,
   "metadata": {},
   "outputs": [],
   "source": [
    "my_dict.update(orange='오렌지')\n",
    "print(my_dict) # 없는 값은 추가가 된다"
   ]
  },
  {
   "cell_type": "markdown",
   "metadata": {},
   "source": [
    "### `.get(key[, default])`\n",
    "\n",
    "key를 통해 value를 가져옵니다. \n",
    "\n",
    "절대로 KeyError가 발생하지 않습니다. default는 기본적으로 None입니다."
   ]
  },
  {
   "cell_type": "code",
   "execution_count": null,
   "metadata": {},
   "outputs": [],
   "source": [
    "# get을 사용해봅시다.\n",
    "my_dict = {'apple': '사과', 'banana': '바나나', 'melon': '멜론'}\n",
    "my_dict['pineapple']"
   ]
  },
  {
   "cell_type": "code",
   "execution_count": null,
   "metadata": {},
   "outputs": [],
   "source": [
    "print(my_dict.get('pineapple')) # get 을 통해 가져오라고 하면 None 값 나옴, default 값이 None\n",
    "\n",
    "# 특정 데이터 있는지 없는지 확인할 때 사용\n",
    "\n",
    "# .get이라는 메소드로 접근하는 방식 더 많이 사용"
   ]
  },
  {
   "cell_type": "code",
   "execution_count": null,
   "metadata": {},
   "outputs": [],
   "source": [
    "# 조건문 분기 사례 => 여기서 [  ] 사용하면 Error 뜬다\n",
    "\n",
    "if my_dict.get('pineapple') != None:\n",
    "    print(my_dict.get('pineapple'))\n",
    "else: # None 이라는 뜻\n",
    "    print('파인애플이 없습니다.. ㅠㅠ')    "
   ]
  },
  {
   "cell_type": "markdown",
   "metadata": {},
   "source": [
    "## dictionary comprehension\n",
    "\n",
    "dictionary도 comprehension을 활용하여 만들 수 있습니다. "
   ]
  },
  {
   "cell_type": "code",
   "execution_count": null,
   "metadata": {},
   "outputs": [],
   "source": [
    "# dictionary comprehension\n",
    "cube = {x: x ** 3 for x in range(1, 8)} # {1: 1, 2: 8, 3: 27, 4: 64, 5: 125, 6: 216, 7: 343}\n",
    "print(cube)"
   ]
  },
  {
   "cell_type": "markdown",
   "metadata": {},
   "source": [
    "### dictionary comprehension 사용해보기 ★★★"
   ]
  },
  {
   "cell_type": "code",
   "execution_count": null,
   "metadata": {},
   "outputs": [],
   "source": [
    "dusts = {'서울': 72, '대전': 82, '구미': 29, '광주': 45, '중국': 200}"
   ]
  },
  {
   "cell_type": "code",
   "execution_count": null,
   "metadata": {},
   "outputs": [],
   "source": [
    "# 미세먼지 농도가 80 초과 지역만 뽑아 봅시다.\n",
    "# 예) {'대전': 82, '중국': 200}\n",
    "over = {key:value for key, value in dusts.items() if value > 80}\n",
    "print(over)"
   ]
  },
  {
   "cell_type": "code",
   "execution_count": null,
   "metadata": {},
   "outputs": [],
   "source": [
    "# 미세먼지 농도가 80초과는 나쁨 80이하는 보통으로 하는 value를 가지도록 바꿔봅시다.\n",
    "\n",
    "translate = {key: '나쁨' if value > 80 else '보통' for key, value in dusts.items()}\n",
    "print(translate)"
   ]
  },
  {
   "cell_type": "code",
   "execution_count": null,
   "metadata": {},
   "outputs": [],
   "source": [
    "# elif 도 사용할 수 있습니다. (else if 로 풀어서 써야 함) \n",
    "\n",
    "# 뒤에서부터 읽기 \n",
    "\n",
    "translate = {key: '나쁨' if value > 80 else ('보통' if value > 30 else '좋음')for key, value in dusts.items()}\n",
    "print(translate)"
   ]
  },
  {
   "cell_type": "markdown",
   "metadata": {},
   "source": [
    "# 세트 메소드 활용\n",
    "\n",
    "* 순서가 없고\n",
    "* 중복을 허락하지 않는다"
   ]
  },
  {
   "cell_type": "markdown",
   "metadata": {},
   "source": [
    "## 추가 및 삭제\n",
    "\n",
    "### `.add(elem)`\n",
    "elem을 세트에 추가합니다. "
   ]
  },
  {
   "cell_type": "code",
   "execution_count": null,
   "metadata": {},
   "outputs": [],
   "source": [
    "# add를 사용해봅시다.\n",
    "fruits = {\"사과\", \"바나나\", \"수박\"}\n",
    "\n",
    "fruits.add('포도')\n",
    "fruits.add('포도')  # 중복을 허락하지 않기 때문에 '포도' 값이 2번 들어가지는 않는다\n",
    "\n",
    "print(fruits)"
   ]
  },
  {
   "cell_type": "markdown",
   "metadata": {},
   "source": [
    "### `.update(*others)`\n",
    "\n",
    "여러가지의 값을 추가합니다.\n",
    "\n",
    "**여기서 반드시 iterable한 값을 넣어야합니다.**"
   ]
  },
  {
   "cell_type": "code",
   "execution_count": null,
   "metadata": {},
   "outputs": [],
   "source": [
    "# update를 사용해봅시다.\n",
    "fruits = {\"사과\", \"바나나\", \"수박\"}\n",
    "\n",
    "fruits.update({'토마토', '토마토', '딸기'}, {'포도', '레몬'})\n",
    "print(fruits)\n",
    "\n",
    "# 주의: string 도 iterable 한 값\n",
    "fruits.update('파인애플')\n",
    "print(fruits)"
   ]
  },
  {
   "cell_type": "markdown",
   "metadata": {},
   "source": [
    "### `.remove(elem)`\n",
    "\n",
    "elem을 세트에서 삭제하고, 없으면 KeyError가 발생합니다. "
   ]
  },
  {
   "cell_type": "code",
   "execution_count": null,
   "metadata": {},
   "outputs": [],
   "source": [
    "# remove를 사용해봅시다.\n",
    "fruits = {\"사과\", \"바나나\", \"수박\"}\n",
    "\n",
    "fruits.remove('사과')\n",
    "print(fruits)\n",
    "\n",
    "fruits.remove('사과')"
   ]
  },
  {
   "cell_type": "markdown",
   "metadata": {},
   "source": [
    "### `.discard(elem)`\n",
    "x를 세트에서 삭제하고 없어도 **에러가 발생하지 않습니다.**"
   ]
  },
  {
   "cell_type": "code",
   "execution_count": null,
   "metadata": {},
   "outputs": [],
   "source": [
    "# discard를 사용해봅시다.\n",
    "fruits = {\"사과\", \"바나나\", \"수박\"}\n",
    "\n",
    "fruits.discard('사과')\n",
    "print(fruits)\n",
    "\n",
    "fruits.discard('포도')\n",
    "print(fruits)"
   ]
  },
  {
   "cell_type": "markdown",
   "metadata": {},
   "source": [
    "### `.pop()`\n",
    "\n",
    "임의의 원소를 제거해 반환합니다."
   ]
  },
  {
   "cell_type": "code",
   "execution_count": null,
   "metadata": {
    "scrolled": true
   },
   "outputs": [],
   "source": [
    "# pop을 사용해봅시다.\n",
    "fruits = {\"사과\", \"바나나\", \"수박\", \"아보카도\"}\n",
    "\n",
    "print(fruits.pop()) # 임의의 원소 없애버린다, 파이썬 파일로 한다면 계속 다른 랜덤 값 추출될 것\n",
    "print(fruits)"
   ]
  },
  {
   "cell_type": "markdown",
   "metadata": {},
   "source": [
    "##  `map()`, `zip()`, `filter()`"
   ]
  },
  {
   "cell_type": "markdown",
   "metadata": {},
   "source": [
    "### `map(function, iterable)`\n",
    "\n",
    "* **Iterable의 모든 원소에 function을 적용한 후 그 결과를 돌려줍니다.** \n",
    "\n",
    "* 대표적으로 iterable한 타입 - list, dict, set, str, bytes, tuple, range\n",
    "\n",
    "* return은 map_object 형태로 됩니다."
   ]
  },
  {
   "cell_type": "code",
   "execution_count": null,
   "metadata": {},
   "outputs": [],
   "source": [
    "numbers = [1, 2, 3]\n",
    "# 위의 코드를 문자열 '123'으로 만들어봅시다.\n",
    "\n",
    "chars = map(str, numbers) # str 이라는 함수를 numbers 의 모든 원소마다 적용해서 결과를 반환한다\n",
    "print(list(chars)) # 다시 리스트 형태로 만들어서 출력"
   ]
  },
  {
   "cell_type": "code",
   "execution_count": null,
   "metadata": {},
   "outputs": [],
   "source": [
    "chars = ['1', '2', '3']\n",
    "# 위의 코드를 [1, 2, 3]으로 만들어봅시다.\n",
    "\n",
    "# map 을 통해서 받은 iterable 은 사용하고 싶은 type으로 형변환해주어야 한다\n",
    "\n",
    "numbers = map(int, chars) # map 함수로 int 를 사용 \n",
    "print(numbers) # <map object at 0x0000028B854E0588>\n",
    "print(list(numbers)) # [1, 2, 3] "
   ]
  },
  {
   "cell_type": "code",
   "execution_count": null,
   "metadata": {},
   "outputs": [],
   "source": [
    "# list comprehension\n",
    "numbers = [1, 2, 3]\n",
    "\n",
    "chars = [str(number) for number in numbers] # str(number)를 원소로 출력하는 것도 가능\n",
    "print(chars)"
   ]
  },
  {
   "cell_type": "code",
   "execution_count": null,
   "metadata": {},
   "outputs": [],
   "source": [
    "# list comprehension\n",
    "chars = ['1', '2', '3']\n",
    "# 위의 코드를 [1, 2, 3]으로 만들어봅시다.\n",
    "\n",
    "numbers = [int(char) for char in chars]\n",
    "print(numbers)"
   ]
  },
  {
   "cell_type": "markdown",
   "metadata": {},
   "source": [
    "* function은 사용자 정의 함수도 가능합니다."
   ]
  },
  {
   "cell_type": "code",
   "execution_count": null,
   "metadata": {},
   "outputs": [],
   "source": [
    "# 세제곱의 결과를 나타내는 함수\n",
    "def cube(n):\n",
    "    return n**3\n",
    "\n",
    "numbers = [1, 2, 3, 4, 5] # list\n",
    "cube_numbers = map(cube, numbers)\n",
    "print(list(cube_numbers))"
   ]
  },
  {
   "cell_type": "markdown",
   "metadata": {},
   "source": [
    "### `zip(*iterables)` \n",
    "\n",
    "* 복수 iterable한 것들을 모아준다.\n",
    "\n",
    "* 결과는 튜플의 모음으로 구성된 zip object를 반환한다.\n",
    "\n",
    "* 길이가 같은 것들끼리 사용해야 한다 => 남는 자리는 없어진다. "
   ]
  },
  {
   "cell_type": "code",
   "execution_count": null,
   "metadata": {},
   "outputs": [],
   "source": [
    "# 예시를 봅시다.\n",
    "girls = ['jane', 'iu', 'mary']\n",
    "boys = ['justin', 'david', 'kim']\n",
    "\n",
    "zip(girls, boys) # <zip at 0x28b84a9e908>\n",
    "list(zip(girls, boys))"
   ]
  },
  {
   "cell_type": "code",
   "execution_count": null,
   "metadata": {},
   "outputs": [],
   "source": [
    "# for문으로 한 명씩 순서대로 매칭시켜봅시다.\n",
    "# 예) {'jane': 'justin', 'iu': 'david', 'mary': 'kim'}\n",
    "\n",
    "{girl:boy for girl in girls for boy in boys} # boy 돌 때 마지막에서 kim 만 남음 {'jane': 'kim', 'iu': 'kim', 'mary': 'kim'}vboy 돌 때 마지막에서 kim 만 남음 "
   ]
  },
  {
   "cell_type": "code",
   "execution_count": null,
   "metadata": {},
   "outputs": [],
   "source": [
    "# dictionary comprehension 사용 girl - key 값으로 / boy - value 값으로\n",
    "{girl:boy for girl, boy in zip(girls, boys)}"
   ]
  },
  {
   "cell_type": "markdown",
   "metadata": {},
   "source": [
    "* 아래와 같이 사용가능하다."
   ]
  },
  {
   "cell_type": "code",
   "execution_count": null,
   "metadata": {},
   "outputs": [],
   "source": [
    "a = '123'\n",
    "b = '567'\n",
    "\n",
    "# 1과 5, 2와 6, 3과 7을 한 셋트로...\n",
    "for digit_a, digit_b in zip(a, b):\n",
    "    print(digit_a, digit_b)"
   ]
  },
  {
   "cell_type": "markdown",
   "metadata": {},
   "source": [
    "* zip은 반드시 길이가 같을 때 사용해야한다. 가장 짧은 것을 기준으로 구성한다."
   ]
  },
  {
   "cell_type": "code",
   "execution_count": null,
   "metadata": {},
   "outputs": [],
   "source": [
    "num1 = [1, 2, 3]\n",
    "num2 = ['1', '2']\n",
    "\n",
    "list(zip(num1, num2)) # num1 의 3 없어진다 => 길이에 맞춰서 [(1, '1'), (2, '2')] 나온다"
   ]
  },
  {
   "cell_type": "markdown",
   "metadata": {},
   "source": [
    "* 길이가 긴 것을 맞춰서 할 수도 있지만, 사용할 일이 없다."
   ]
  },
  {
   "cell_type": "code",
   "execution_count": null,
   "metadata": {},
   "outputs": [],
   "source": [
    "from itertools import zip_longest\n",
    "\n",
    "list(zip_longest(num1, num2, fillvalue=0))"
   ]
  },
  {
   "cell_type": "markdown",
   "metadata": {},
   "source": [
    "### `filter(function, iterable)`\n",
    "\n",
    "* iterable에서 function의 반환된 결과가 True인 것들만 구성하여 반환한다.\n",
    "\n",
    "* function 자리에 True/False 구분할 수 있는 것이 와야 한다. "
   ]
  },
  {
   "cell_type": "code",
   "execution_count": null,
   "metadata": {},
   "outputs": [],
   "source": [
    "# 짝수인지 판단하는 함수를 작성해봅시다."
   ]
  },
  {
   "cell_type": "code",
   "execution_count": null,
   "metadata": {},
   "outputs": [],
   "source": [
    "def even(n):\n",
    "    return not n%2 # True 만\n",
    "\n",
    "numbers = [1, 2, 3, 4, 5]\n",
    "list(filter(even, numbers)) # object 를 list 로 감싸준다.  "
   ]
  },
  {
   "cell_type": "code",
   "execution_count": null,
   "metadata": {},
   "outputs": [],
   "source": [
    "# 다음의 list comprehension과 동일하다.\n",
    "[number for number in numbers if even(number)]"
   ]
  }
 ],
 "metadata": {
  "kernelspec": {
   "display_name": "Python 3",
   "language": "python",
   "name": "python3"
  },
  "language_info": {
   "codemirror_mode": {
    "name": "ipython",
    "version": 3
   },
   "file_extension": ".py",
   "mimetype": "text/x-python",
   "name": "python",
   "nbconvert_exporter": "python",
   "pygments_lexer": "ipython3",
   "version": "3.7.4"
  },
  "toc": {
   "base_numbering": 1,
   "nav_menu": {},
   "number_sections": true,
   "sideBar": true,
   "skip_h1_title": false,
   "title_cell": "Table of Contents",
   "title_sidebar": "Contents",
   "toc_cell": false,
   "toc_position": {
    "height": "calc(100% - 180px)",
    "left": "10px",
    "top": "150px",
    "width": "362.4px"
   },
   "toc_section_display": true,
   "toc_window_display": true
  }
 },
 "nbformat": 4,
 "nbformat_minor": 2
}
