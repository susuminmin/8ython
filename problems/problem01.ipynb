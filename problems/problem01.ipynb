{
 "cells": [
  {
   "cell_type": "markdown",
   "metadata": {},
   "source": [
    "# 상승장? 하락장?\n",
    "\n",
    "> 최고가와 최저가의 차이를 변동폭으로 정의할 때 (시가 + 변동폭)이 최고가 보다 높을 경우 \"상승장\", 그렇지 않은 경우 \"하락장\" 문자열을 출력하라.\n",
    "\n",
    "|Key Name|Description|\n",
    "|------|---|\n",
    "|opening_price|최근 24시간 내 시작 거래금액|\n",
    "|closing_price|최근 24시간 내 마지막 거래금액|\n",
    "|min_price|최근 24시간 내 최저 거래금액|\n",
    "|max_price|최근 24시간 내 최고 거래금액|"
   ]
  },
  {
   "cell_type": "code",
   "execution_count": null,
   "metadata": {},
   "outputs": [],
   "source": [
    "import requests\n",
    "from pprint import pprint\n",
    "\n",
    "url = \"https://api.bithumb.com/public/ticker/btc\"\n",
    "data = requests.get(url).json()['data']  # dict\n",
    "pprint(data)"
   ]
  },
  {
   "cell_type": "code",
   "execution_count": null,
   "metadata": {},
   "outputs": [],
   "source": [
    "# 편의상 data 에서 시가를 받아와서 opening_price, max_price, min_price 에 저장한다.\n",
    "# str type => int type 으로 형변환한다.\n",
    "\n",
    "opening_price = int(data.get('opening_price'))\n",
    "max_price = int(data.get('max_price')) \n",
    "min_price = int(data.get('min_price')) \n",
    "\n",
    "# 변동폭\n",
    "flunctuation = max_price - min_price\n",
    "\n",
    "# (시가 + 변동폭)이 최고가 보다 높을 경우 \"상승장\", 그렇지 않은 경우 \"하락장\" 문자열을 출력한다.\n",
    "if opening_price + flunctuation > max_price:\n",
    "    print('상승장')\n",
    "else:\n",
    "    print('하락장')\n"
   ]
  },
  {
   "cell_type": "markdown",
   "metadata": {},
   "source": [
    "# 개인정보보호\n",
    "> 사용자의 핸드폰번호를 입력 받으려고한다. 개인정보 보호를 위하여 뒷자리 4자리를 제외하고는 마스킹 처리를 하려고한다.\n",
    ">\n",
    "> 핸드폰번호는 010으로 시작해야하고 11자리여야한다. 핸드폰번호를 입력하지 않았다면 \"핸드폰번호를 입력하세요\"를 출력한다\n",
    "\n",
    "```\n",
    "예시 입력)\n",
    "01012341234\n",
    "예시 출력)\n",
    "*******1234\n",
    "```"
   ]
  },
  {
   "cell_type": "code",
   "execution_count": null,
   "metadata": {},
   "outputs": [],
   "source": [
    "phone_number = input() # str 값으로 핸드폰번호를 입력받는다.\n",
    "\n",
    "# if phone_number[0:3] == '010' and len(phone_number) == 11:\n",
    "#     secret_phone_num = phone_number.replace(phone[0:7],'*******')\n",
    "#     print(secret_phone_num)\n",
    "# else:\n",
    "#     print('핸드폰번호를 입력하세요')\n",
    "\n",
    "try:\n",
    "    numbers = [int(number) for number in phone_number]\n",
    "except:\n",
    "    print('핸드폰번호를 입력하세요.')\n",
    "else:\n",
    "    if phone_number[0:3] == '010' and len(phone_number) == 11:\n",
    "        result = '*' * 7 + phone_number[-4:]\n",
    "        print(result)\n",
    "    else:\n",
    "        print('핸드폰번호를 입력하세요')"
   ]
  },
  {
   "cell_type": "markdown",
   "metadata": {},
   "source": [
    "# 정중앙\n",
    "> 사용자가 입력한 문자열중 가운데 글자를 출력하라. 문자열이 짝수라면 가운데 두글자를 출력하라"
   ]
  },
  {
   "cell_type": "code",
   "execution_count": null,
   "metadata": {},
   "outputs": [],
   "source": [
    "text = input()\n",
    "num = len(text) // 2\n",
    "\n",
    "# slicing 하기\n",
    "\n",
    "# text len 이 짝수라면?\n",
    "if len(text) % 2 == 0 :\n",
    "    m = text[num-1:num+1]\n",
    "# 홀수라면? if len(text) % 2: 와 같은 말  \n",
    "else:\n",
    "    m = text[num]\n",
    "print(m)"
   ]
  }
 ],
 "metadata": {
  "kernelspec": {
   "display_name": "Python 3",
   "language": "python",
   "name": "python3"
  },
  "language_info": {
   "codemirror_mode": {
    "name": "ipython",
    "version": 3
   },
   "file_extension": ".py",
   "mimetype": "text/x-python",
   "name": "python",
   "nbconvert_exporter": "python",
   "pygments_lexer": "ipython3",
   "version": "3.7.4"
  },
  "toc": {
   "base_numbering": 1,
   "nav_menu": {},
   "number_sections": true,
   "sideBar": true,
   "skip_h1_title": false,
   "title_cell": "Table of Contents",
   "title_sidebar": "Contents",
   "toc_cell": false,
   "toc_position": {},
   "toc_section_display": true,
   "toc_window_display": true
  }
 },
 "nbformat": 4,
 "nbformat_minor": 2
}
